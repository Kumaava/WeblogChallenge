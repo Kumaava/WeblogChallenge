{
 "cells": [
  {
   "cell_type": "markdown",
   "metadata": {},
   "source": [
    "### IMPORTS"
   ]
  },
  {
   "cell_type": "code",
   "execution_count": 1,
   "metadata": {
    "collapsed": true
   },
   "outputs": [],
   "source": [
    "import matplotlib.pyplot as plt\n",
    "from astropy.stats import median_absolute_deviation\n",
    "import seaborn as sns\n",
    "import pandas as pd\n",
    "import numpy as np\n",
    "from collections import OrderedDict\n",
    "color = sns.color_palette()\n",
    "from string import ascii_uppercase\n",
    "from datetime import timedelta\n",
    "import pprint\n",
    "import os\n",
    "import re\n",
    "import time\n",
    "import warnings\n",
    "warnings.filterwarnings('ignore')"
   ]
  },
  {
   "cell_type": "code",
   "execution_count": 2,
   "metadata": {
    "collapsed": true
   },
   "outputs": [],
   "source": [
    "%matplotlib inline\n",
    "%reload_ext autoreload\n",
    "%autoreload 2\n",
    "# Auto reload custom modules\n",
    "\n",
    "pd.set_option('display.mpl_style', 'default')\n",
    "%matplotlib inline"
   ]
  },
  {
   "cell_type": "markdown",
   "metadata": {
    "collapsed": true
   },
   "source": [
    "### load data"
   ]
  },
  {
   "cell_type": "code",
   "execution_count": 3,
   "metadata": {},
   "outputs": [
    {
     "name": "stderr",
     "output_type": "stream",
     "text": [
      "b'Skipping line 491258: expected 15 fields, saw 16\\nSkipping line 491610: expected 15 fields, saw 16\\nSkipping line 491949: expected 15 fields, saw 16\\nSkipping line 492270: expected 15 fields, saw 16\\nSkipping line 492551: expected 15 fields, saw 16\\nSkipping line 492802: expected 15 fields, saw 16\\nSkipping line 493232: expected 15 fields, saw 16\\nSkipping line 496262: expected 15 fields, saw 16\\nSkipping line 496279: expected 15 fields, saw 16\\nSkipping line 496682: expected 15 fields, saw 16\\nSkipping line 496709: expected 15 fields, saw 16\\nSkipping line 496965: expected 15 fields, saw 16\\nSkipping line 497004: expected 15 fields, saw 16\\nSkipping line 497230: expected 15 fields, saw 16\\nSkipping line 497257: expected 15 fields, saw 16\\nSkipping line 497726: expected 15 fields, saw 16\\nSkipping line 497767: expected 15 fields, saw 16\\nSkipping line 497964: expected 15 fields, saw 16\\nSkipping line 497987: expected 15 fields, saw 16\\n'\n",
      "b'Skipping line 547659: expected 15 fields, saw 16\\nSkipping line 553004: expected 15 fields, saw 16\\nSkipping line 565091: expected 15 fields, saw 16\\n'\n"
     ]
    }
   ],
   "source": [
    "logdf = pd.read_csv(os.getcwd()+'/data/2015_07_22_mktplace_shop_web_log_sample.log',\n",
    "                    delim_whitespace=True, error_bad_lines=False, header=None)"
   ]
  },
  {
   "cell_type": "code",
   "execution_count": 4,
   "metadata": {
    "collapsed": true
   },
   "outputs": [],
   "source": [
    "# skipped  = [491258, 491610, 491949, 492270,491551, 492802, 493232, 496262, 496279, 496682,496709, 496965, 497004, \n",
    "# 497230, 497257, 497726, 497767, 497964, 497987, 547659, 553004, 565091]"
   ]
  },
  {
   "cell_type": "code",
   "execution_count": 5,
   "metadata": {
    "collapsed": true
   },
   "outputs": [],
   "source": [
    "mystr = 'timestamp elb \\\n",
    "    client_port \\\n",
    "    backend_port \\\n",
    "    request_processing_time \\\n",
    "    backend_processing_time \\\n",
    "    response_processing_time \\\n",
    "    elb_status_code \\\n",
    "    backend_status_code \\\n",
    "    received_bytes \\\n",
    "    sent_bytes \\\n",
    "    request \\\n",
    "    user_agent \\\n",
    "    ssl_cipher \\\n",
    "    ssl_protocol'\n"
   ]
  },
  {
   "cell_type": "code",
   "execution_count": 6,
   "metadata": {
    "collapsed": true
   },
   "outputs": [],
   "source": [
    "wordList = re.sub(\"[^\\w]\", \" \",  mystr).split()"
   ]
  },
  {
   "cell_type": "code",
   "execution_count": 7,
   "metadata": {},
   "outputs": [
    {
     "data": {
      "text/plain": [
       "['timestamp',\n",
       " 'elb',\n",
       " 'client_port',\n",
       " 'backend_port',\n",
       " 'request_processing_time',\n",
       " 'backend_processing_time',\n",
       " 'response_processing_time',\n",
       " 'elb_status_code',\n",
       " 'backend_status_code',\n",
       " 'received_bytes',\n",
       " 'sent_bytes',\n",
       " 'request',\n",
       " 'user_agent',\n",
       " 'ssl_cipher',\n",
       " 'ssl_protocol']"
      ]
     },
     "execution_count": 7,
     "metadata": {},
     "output_type": "execute_result"
    }
   ],
   "source": [
    "wordList"
   ]
  },
  {
   "cell_type": "code",
   "execution_count": 8,
   "metadata": {
    "collapsed": true
   },
   "outputs": [],
   "source": [
    "logdf.columns = wordList"
   ]
  },
  {
   "cell_type": "code",
   "execution_count": 9,
   "metadata": {
    "collapsed": true
   },
   "outputs": [],
   "source": [
    "logdf['client_IP'] = logdf['client_port'].apply(lambda x: x.split(':')[0])\n",
    "logdf['count_IP'] = logdf.groupby('client_IP')['client_IP'].transform('count')\n",
    "logdf['timestamp'] = pd.to_datetime(logdf['timestamp'], errors='coerce')\n",
    "logdf.sort_values(by=['client_IP','timestamp'], ascending=True, inplace=True)\n",
    "logdf['new_id'] = logdf.groupby(logdf.client_IP).ngroup() + 1"
   ]
  },
  {
   "cell_type": "code",
   "execution_count": 10,
   "metadata": {
    "collapsed": true
   },
   "outputs": [],
   "source": [
    "logdf[\"url\"] = logdf[\"request\"].str.split(\" \", expand=True)[1]"
   ]
  },
  {
   "cell_type": "code",
   "execution_count": 11,
   "metadata": {
    "collapsed": true
   },
   "outputs": [],
   "source": [
    "logdf['count_client_port'] = logdf.groupby(['client_port'])['client_port'].transform('count')"
   ]
  },
  {
   "cell_type": "code",
   "execution_count": 12,
   "metadata": {
    "collapsed": true
   },
   "outputs": [],
   "source": [
    "unique_ports = logdf.groupby('client_IP')['count_client_port'].nunique()"
   ]
  },
  {
   "cell_type": "code",
   "execution_count": 13,
   "metadata": {
    "collapsed": true
   },
   "outputs": [],
   "source": [
    "logdf = logdf.merge(pd.DataFrame(unique_ports).reset_index(drop=False), on='client_IP')"
   ]
  },
  {
   "cell_type": "code",
   "execution_count": 15,
   "metadata": {},
   "outputs": [
    {
     "data": {
      "text/plain": [
       "Index(['timestamp', 'elb', 'client_port', 'backend_port',\n",
       "       'request_processing_time', 'backend_processing_time',\n",
       "       'response_processing_time', 'elb_status_code', 'backend_status_code',\n",
       "       'received_bytes', 'sent_bytes', 'request', 'user_agent', 'ssl_cipher',\n",
       "       'ssl_protocol', 'client_IP', 'count_IP', 'new_id', 'url',\n",
       "       'count_client_port_x', 'count_client_port_y'],\n",
       "      dtype='object')"
      ]
     },
     "execution_count": 15,
     "metadata": {},
     "output_type": "execute_result"
    }
   ],
   "source": [
    "logdf.columns"
   ]
  },
  {
   "cell_type": "code",
   "execution_count": 17,
   "metadata": {},
   "outputs": [],
   "source": [
    "logdf.columns = ['timestamp', 'elb', 'client_port', 'backend_port',\n",
    "       'request_processing_time', 'backend_processing_time',\n",
    "       'response_processing_time', 'elb_status_code', 'backend_status_code',\n",
    "       'received_bytes', 'sent_bytes', 'request', 'user_agent', 'ssl_cipher',\n",
    "       'ssl_protocol', 'client_IP', 'count_IP', 'new_id','url',\n",
    "       'count_client_port', 'unique_port_count']"
   ]
  },
  {
   "cell_type": "code",
   "execution_count": null,
   "metadata": {
    "collapsed": true
   },
   "outputs": [],
   "source": []
  },
  {
   "cell_type": "markdown",
   "metadata": {},
   "source": [
    "#### Sessionize the web log"
   ]
  },
  {
   "cell_type": "code",
   "execution_count": 18,
   "metadata": {
    "collapsed": true
   },
   "outputs": [],
   "source": [
    "logdf[\"prev_timestamp\"] = logdf[['client_IP', 'timestamp']].groupby('client_IP').transform(lambda x:x.shift(1))\n",
    "inactive_window = timedelta(seconds=10*60)\n",
    "logdf['next_session'] = ((logdf['timestamp'] - logdf['prev_timestamp']) >= inactive_window).astype(int)\n",
    "logdf['session'] = logdf.groupby(\"client_IP\")['next_session'].cumsum()\n",
    "logdf['session_id'] = logdf[\"client_IP\"].str.cat(logdf[\"session\"].astype(str), sep='_')"
   ]
  },
  {
   "cell_type": "code",
   "execution_count": 19,
   "metadata": {
    "collapsed": true
   },
   "outputs": [],
   "source": [
    "session_length = (logdf[['session_id', 'timestamp']].groupby('session_id')\n",
    "                                                        .agg({'timestamp': [(\n",
    "                                                            'session_length', lambda x: np.ptp(\n",
    "                                                                x).seconds)]}))\n",
    "\n",
    "session_length.columns = session_length.columns.droplevel()\n",
    "session_length.reset_index(drop=False, inplace=True)"
   ]
  },
  {
   "cell_type": "code",
   "execution_count": 20,
   "metadata": {
    "collapsed": true
   },
   "outputs": [],
   "source": [
    "#session_length\n",
    "session_length[\"client_IP\"], session_length[\"session\"] = session_length[\"session_id\"].str.split(\"_\").str\n",
    "session_length[\"session\"] = session_length[\"session\"].astype(int)"
   ]
  },
  {
   "cell_type": "markdown",
   "metadata": {},
   "source": [
    "#### Average session time \n"
   ]
  },
  {
   "cell_type": "code",
   "execution_count": 21,
   "metadata": {},
   "outputs": [
    {
     "name": "stdout",
     "output_type": "stream",
     "text": [
      "Removing sessions_id with zero session_time, average session_time : 102.13\n"
     ]
    }
   ],
   "source": [
    "se_avg_len = round(session_length[session_length['session_length'] != 0]['session_length'].mean(),2)\n",
    "print (\"Removing sessions_id with zero session_time, average session_time :\", se_avg_len)"
   ]
  },
  {
   "cell_type": "code",
   "execution_count": 22,
   "metadata": {},
   "outputs": [
    {
     "name": "stdout",
     "output_type": "stream",
     "text": [
      "Per session : 1.702 minutes\n"
     ]
    }
   ],
   "source": [
    "print ('Per session :' , round(se_avg_len/60,3), 'minutes')"
   ]
  },
  {
   "cell_type": "code",
   "execution_count": null,
   "metadata": {
    "collapsed": true
   },
   "outputs": [],
   "source": []
  },
  {
   "cell_type": "markdown",
   "metadata": {},
   "source": [
    "#### Unique URL counts"
   ]
  },
  {
   "cell_type": "code",
   "execution_count": 23,
   "metadata": {},
   "outputs": [
    {
     "data": {
      "text/html": [
       "<div>\n",
       "<style>\n",
       "    .dataframe thead tr:only-child th {\n",
       "        text-align: right;\n",
       "    }\n",
       "\n",
       "    .dataframe thead th {\n",
       "        text-align: left;\n",
       "    }\n",
       "\n",
       "    .dataframe tbody tr th {\n",
       "        vertical-align: top;\n",
       "    }\n",
       "</style>\n",
       "<table border=\"1\" class=\"dataframe\">\n",
       "  <thead>\n",
       "    <tr style=\"text-align: right;\">\n",
       "      <th></th>\n",
       "      <th>session_id</th>\n",
       "      <th>unique_url_count</th>\n",
       "    </tr>\n",
       "  </thead>\n",
       "  <tbody>\n",
       "    <tr>\n",
       "      <th>0</th>\n",
       "      <td>1.186.101.79_0</td>\n",
       "      <td>9</td>\n",
       "    </tr>\n",
       "    <tr>\n",
       "      <th>1</th>\n",
       "      <td>1.186.101.79_1</td>\n",
       "      <td>8</td>\n",
       "    </tr>\n",
       "    <tr>\n",
       "      <th>2</th>\n",
       "      <td>1.186.103.240_0</td>\n",
       "      <td>5</td>\n",
       "    </tr>\n",
       "    <tr>\n",
       "      <th>3</th>\n",
       "      <td>1.186.103.78_0</td>\n",
       "      <td>4</td>\n",
       "    </tr>\n",
       "    <tr>\n",
       "      <th>4</th>\n",
       "      <td>1.186.108.213_0</td>\n",
       "      <td>2</td>\n",
       "    </tr>\n",
       "    <tr>\n",
       "      <th>5</th>\n",
       "      <td>1.186.108.230_0</td>\n",
       "      <td>5</td>\n",
       "    </tr>\n",
       "    <tr>\n",
       "      <th>6</th>\n",
       "      <td>1.186.108.242_0</td>\n",
       "      <td>3</td>\n",
       "    </tr>\n",
       "    <tr>\n",
       "      <th>7</th>\n",
       "      <td>1.186.108.28_0</td>\n",
       "      <td>80</td>\n",
       "    </tr>\n",
       "    <tr>\n",
       "      <th>8</th>\n",
       "      <td>1.186.108.29_0</td>\n",
       "      <td>3</td>\n",
       "    </tr>\n",
       "    <tr>\n",
       "      <th>9</th>\n",
       "      <td>1.186.108.79_0</td>\n",
       "      <td>3</td>\n",
       "    </tr>\n",
       "  </tbody>\n",
       "</table>\n",
       "</div>"
      ],
      "text/plain": [
       "        session_id  unique_url_count\n",
       "0   1.186.101.79_0                 9\n",
       "1   1.186.101.79_1                 8\n",
       "2  1.186.103.240_0                 5\n",
       "3   1.186.103.78_0                 4\n",
       "4  1.186.108.213_0                 2\n",
       "5  1.186.108.230_0                 5\n",
       "6  1.186.108.242_0                 3\n",
       "7   1.186.108.28_0                80\n",
       "8   1.186.108.29_0                 3\n",
       "9   1.186.108.79_0                 3"
      ]
     },
     "execution_count": 23,
     "metadata": {},
     "output_type": "execute_result"
    }
   ],
   "source": [
    "url_count_data = (logdf[['session_id', 'url']].groupby('session_id')\n",
    "                                             .agg({'url': [('unique_url_count', lambda x: x.nunique())]}))\n",
    "\n",
    "url_count_data.columns = url_count_data.columns.droplevel()\n",
    "\n",
    "url_count_data.reset_index(drop=False, inplace=True)\n",
    "\n",
    "url_count_data.head(10)"
   ]
  },
  {
   "cell_type": "code",
   "execution_count": null,
   "metadata": {
    "collapsed": true
   },
   "outputs": [],
   "source": []
  },
  {
   "cell_type": "code",
   "execution_count": null,
   "metadata": {
    "collapsed": true
   },
   "outputs": [],
   "source": []
  },
  {
   "cell_type": "markdown",
   "metadata": {},
   "source": [
    "#### Most engaged user"
   ]
  },
  {
   "cell_type": "markdown",
   "metadata": {},
   "source": [
    "#### Top 10 IPs with port number with maximum session length"
   ]
  },
  {
   "cell_type": "code",
   "execution_count": 24,
   "metadata": {},
   "outputs": [
    {
     "data": {
      "text/html": [
       "<div>\n",
       "<style>\n",
       "    .dataframe thead tr:only-child th {\n",
       "        text-align: right;\n",
       "    }\n",
       "\n",
       "    .dataframe thead th {\n",
       "        text-align: left;\n",
       "    }\n",
       "\n",
       "    .dataframe tbody tr th {\n",
       "        vertical-align: top;\n",
       "    }\n",
       "</style>\n",
       "<table border=\"1\" class=\"dataframe\">\n",
       "  <thead>\n",
       "    <tr style=\"text-align: right;\">\n",
       "      <th></th>\n",
       "      <th>client_IP</th>\n",
       "      <th>average_session_length</th>\n",
       "      <th>number_of_sessions</th>\n",
       "    </tr>\n",
       "  </thead>\n",
       "  <tbody>\n",
       "    <tr>\n",
       "      <th>63380</th>\n",
       "      <td>182.66.36.72</td>\n",
       "      <td>1162.0</td>\n",
       "      <td>1</td>\n",
       "    </tr>\n",
       "    <tr>\n",
       "      <th>80830</th>\n",
       "      <td>49.202.59.215</td>\n",
       "      <td>1157.0</td>\n",
       "      <td>1</td>\n",
       "    </tr>\n",
       "    <tr>\n",
       "      <th>86475</th>\n",
       "      <td>59.91.249.99</td>\n",
       "      <td>1141.0</td>\n",
       "      <td>1</td>\n",
       "    </tr>\n",
       "    <tr>\n",
       "      <th>61722</th>\n",
       "      <td>180.215.72.113</td>\n",
       "      <td>1139.0</td>\n",
       "      <td>1</td>\n",
       "    </tr>\n",
       "    <tr>\n",
       "      <th>88696</th>\n",
       "      <td>61.8.146.66</td>\n",
       "      <td>1139.0</td>\n",
       "      <td>1</td>\n",
       "    </tr>\n",
       "    <tr>\n",
       "      <th>1417</th>\n",
       "      <td>1.23.30.226</td>\n",
       "      <td>1134.0</td>\n",
       "      <td>1</td>\n",
       "    </tr>\n",
       "    <tr>\n",
       "      <th>87848</th>\n",
       "      <td>60.254.126.213</td>\n",
       "      <td>1134.0</td>\n",
       "      <td>1</td>\n",
       "    </tr>\n",
       "    <tr>\n",
       "      <th>32658</th>\n",
       "      <td>117.203.81.246</td>\n",
       "      <td>1130.0</td>\n",
       "      <td>1</td>\n",
       "    </tr>\n",
       "    <tr>\n",
       "      <th>21792</th>\n",
       "      <td>112.79.36.86</td>\n",
       "      <td>1129.0</td>\n",
       "      <td>1</td>\n",
       "    </tr>\n",
       "    <tr>\n",
       "      <th>53562</th>\n",
       "      <td>125.22.34.83</td>\n",
       "      <td>1129.0</td>\n",
       "      <td>1</td>\n",
       "    </tr>\n",
       "  </tbody>\n",
       "</table>\n",
       "</div>"
      ],
      "text/plain": [
       "            client_IP  average_session_length  number_of_sessions\n",
       "63380    182.66.36.72                  1162.0                   1\n",
       "80830   49.202.59.215                  1157.0                   1\n",
       "86475    59.91.249.99                  1141.0                   1\n",
       "61722  180.215.72.113                  1139.0                   1\n",
       "88696     61.8.146.66                  1139.0                   1\n",
       "1417      1.23.30.226                  1134.0                   1\n",
       "87848  60.254.126.213                  1134.0                   1\n",
       "32658  117.203.81.246                  1130.0                   1\n",
       "21792    112.79.36.86                  1129.0                   1\n",
       "53562    125.22.34.83                  1129.0                   1"
      ]
     },
     "execution_count": 24,
     "metadata": {},
     "output_type": "execute_result"
    }
   ],
   "source": [
    "ip_data = (session_length.groupby('client_IP')['session_length'].agg([('average_session_length', np.mean),\n",
    "                                                                           ('number_of_sessions', 'count')])\n",
    "                                                                     .reset_index()\n",
    "                                                                     .sort_values('average_session_length', ascending=False))\n",
    "n = 10 # To get top 100 most engaged users\n",
    "top_n_users = ip_data.iloc[:n]\n",
    "\n",
    "top_n_users.head(10)"
   ]
  },
  {
   "cell_type": "code",
   "execution_count": null,
   "metadata": {
    "collapsed": true
   },
   "outputs": [],
   "source": []
  },
  {
   "cell_type": "markdown",
   "metadata": {},
   "source": [
    "#### Predict the expected load (requests/second) in the next minute"
   ]
  },
  {
   "cell_type": "code",
   "execution_count": 25,
   "metadata": {
    "collapsed": true
   },
   "outputs": [],
   "source": [
    "# logdf.to_csv('/home/xflow/Downloads/DataFiles/logdf.csv')"
   ]
  },
  {
   "cell_type": "code",
   "execution_count": 26,
   "metadata": {},
   "outputs": [],
   "source": [
    "pred1_data = logdf.set_index(\"timestamp\").resample(\"T\").agg({'elb': [('Load', lambda x: np.count_nonzero(x)/60)],\n",
    "                        'sent_bytes': [('sent_bytes_mean', lambda x: x.astype(float).mean())],\n",
    "                        'received_bytes': [('received_bytes_mean', lambda x: x.astype(float).mean())],\n",
    "                        'session_id': [('sessions_active', lambda x: x.nunique())],\n",
    "                        'request_processing_time': [('request_processing_time_mean',\n",
    "                                                     lambda x: x.astype(float).mean())],\n",
    "                        'backend_processing_time': [('backend_processing_time_mean',\n",
    "                                                     lambda x: x.astype(float).mean())],\n",
    "                        'response_processing_time': [('response_processing_time_mean', \n",
    "                                                      lambda x: x.astype(float).mean())]})\n"
   ]
  },
  {
   "cell_type": "code",
   "execution_count": 27,
   "metadata": {
    "collapsed": true
   },
   "outputs": [],
   "source": [
    "pred1_data.columns = pred1_data.columns.droplevel()"
   ]
  },
  {
   "cell_type": "code",
   "execution_count": 28,
   "metadata": {
    "collapsed": true
   },
   "outputs": [],
   "source": [
    "prev_df = pred1_data.shift(1)\n",
    "\n",
    "lag_cols = ['Load', 'sent_bytes_mean', 'received_bytes_mean',\n",
    "       'sessions_active', 'request_processing_time_mean',\n",
    "       'backend_processing_time_mean', 'response_processing_time_mean']\n",
    "\n",
    "prev_df.columns = [\"Prev_\" + col for col in lag_cols]"
   ]
  },
  {
   "cell_type": "code",
   "execution_count": null,
   "metadata": {
    "collapsed": true
   },
   "outputs": [],
   "source": []
  },
  {
   "cell_type": "code",
   "execution_count": 29,
   "metadata": {
    "collapsed": true
   },
   "outputs": [],
   "source": [
    "load_data = pd.concat((pred1_data, prev_df), axis=1).fillna(0)\n",
    "load_data[\"Minute\"] = load_data.index.minute"
   ]
  },
  {
   "cell_type": "code",
   "execution_count": 30,
   "metadata": {
    "collapsed": true
   },
   "outputs": [],
   "source": [
    "final_pred_df = load_data[1:]\n",
    "final_pred_df['Time'] = final_pred_df.index\n",
    "cols_for_model = np.setdiff1d(final_pred_df.columns, [\"Time\", \"Load\"])"
   ]
  },
  {
   "cell_type": "code",
   "execution_count": 31,
   "metadata": {},
   "outputs": [
    {
     "data": {
      "text/plain": [
       "array(['Minute', 'Prev_Load', 'Prev_backend_processing_time_mean',\n",
       "       'Prev_received_bytes_mean', 'Prev_request_processing_time_mean',\n",
       "       'Prev_response_processing_time_mean', 'Prev_sent_bytes_mean',\n",
       "       'Prev_sessions_active', 'backend_processing_time_mean',\n",
       "       'received_bytes_mean', 'request_processing_time_mean',\n",
       "       'response_processing_time_mean', 'sent_bytes_mean',\n",
       "       'sessions_active'], dtype=object)"
      ]
     },
     "execution_count": 31,
     "metadata": {},
     "output_type": "execute_result"
    }
   ],
   "source": [
    "cols_for_model"
   ]
  },
  {
   "cell_type": "code",
   "execution_count": null,
   "metadata": {
    "collapsed": true
   },
   "outputs": [],
   "source": []
  },
  {
   "cell_type": "code",
   "execution_count": 32,
   "metadata": {
    "collapsed": true
   },
   "outputs": [],
   "source": [
    "from sklearn.model_selection import train_test_split\n",
    "from sklearn.ensemble import RandomForestRegressor\n",
    "from sklearn.metrics import mean_squared_error\n",
    "from xgboost import XGBRegressor\n",
    "from sklearn.ensemble import GradientBoostingRegressor"
   ]
  },
  {
   "cell_type": "code",
   "execution_count": 33,
   "metadata": {},
   "outputs": [
    {
     "name": "stdout",
     "output_type": "stream",
     "text": [
      " Build data shape: (666, 16), Validation data shape: (222, 16) and Testing data shape: (222, 16)\n"
     ]
    }
   ],
   "source": [
    "train, test, y_train, y_test = train_test_split(final_pred_df, final_pred_df[\"Load\"], test_size=0.2, random_state=2018, shuffle=False)\n",
    "build, val, y_build, y_val = train_test_split(train, y_train, test_size=0.25, random_state=2018, shuffle=False)\n",
    "print(f\" Build data shape: {build.shape}, Validation data shape: {val.shape} and Testing data shape: {test.shape}\")"
   ]
  },
  {
   "cell_type": "code",
   "execution_count": 34,
   "metadata": {},
   "outputs": [
    {
     "data": {
      "text/plain": [
       "XGBRegressor(base_score=0.5, booster='gbtree', colsample_bylevel=1,\n",
       "       colsample_bytree=1, gamma=0, learning_rate=0.1, max_delta_step=0,\n",
       "       max_depth=3, min_child_weight=1, missing=None, n_estimators=300,\n",
       "       n_jobs=1, nthread=None, objective='reg:linear', random_state=42,\n",
       "       reg_alpha=0, reg_lambda=1, scale_pos_weight=1, seed=None,\n",
       "       silent=True, subsample=1)"
      ]
     },
     "execution_count": 34,
     "metadata": {},
     "output_type": "execute_result"
    }
   ],
   "source": [
    "rf = XGBRegressor(n_estimators=300, random_state=42)\n",
    "rf.fit(build[cols_for_model], y_build)"
   ]
  },
  {
   "cell_type": "code",
   "execution_count": 35,
   "metadata": {},
   "outputs": [
    {
     "name": "stdout",
     "output_type": "stream",
     "text": [
      "Validation RMSE: 9.61811059652221\n",
      "Test RMSE: 14.376918152716732\n"
     ]
    }
   ],
   "source": [
    "val_preds = rf.predict(val[cols_for_model])\n",
    "test_preds = rf.predict(test[cols_for_model])\n",
    "print(f\"Validation RMSE: {mean_squared_error(y_val, val_preds)**0.5}\")\n",
    "print(f\"Test RMSE: {mean_squared_error(y_test, test_preds)**0.5}\")"
   ]
  },
  {
   "cell_type": "code",
   "execution_count": 36,
   "metadata": {},
   "outputs": [
    {
     "data": {
      "text/plain": [
       "<matplotlib.legend.Legend at 0x7f30236c5c88>"
      ]
     },
     "execution_count": 36,
     "metadata": {},
     "output_type": "execute_result"
    },
    {
     "data": {
      "image/png": "[encoded data removed]",
      "text/plain": [
       "<Figure size 1080x432 with 1 Axes>"
      ]
     },
     "metadata": {},
     "output_type": "display_data"
    }
   ],
   "source": [
    "plt.figure(figsize=(15,6))\n",
    "plt.xlabel('Time')\n",
    "plt.ylabel('Load')\n",
    "plt.plot(final_pred_df[[\"Time\", \"Load\"]].set_index(\"Time\"),color=color[6], alpha=0.9, label=\"Actual load\")\n",
    "plt.plot(pd.concat((val[\"Time\"].reset_index(drop=True), pd.Series(val_preds, name=\"Load\")), axis=1).set_index(\n",
    "    \"Time\"),color=color[1], alpha=0.9, label=\"Validation predictions\")\n",
    "\n",
    "plt.plot(pd.concat((test[\"Time\"].reset_index(drop=True), pd.Series(\n",
    "    test_preds, name=\"Load\")), axis=1).set_index(\n",
    "    \"Time\"), color=color[5], alpha=0.9, label=\"Test predictions\")\n",
    "\n",
    "sns.set_style(\"whitegrid\", {'axes.grid' : False})\n",
    "\n",
    "plt.legend()\n"
   ]
  },
  {
   "cell_type": "code",
   "execution_count": null,
   "metadata": {
    "collapsed": true
   },
   "outputs": [],
   "source": []
  },
  {
   "cell_type": "markdown",
   "metadata": {},
   "source": [
    "### 2.  Predict the session length for a given IP"
   ]
  },
  {
   "cell_type": "code",
   "execution_count": null,
   "metadata": {
    "collapsed": true
   },
   "outputs": [],
   "source": []
  },
  {
   "cell_type": "code",
   "execution_count": 37,
   "metadata": {
    "collapsed": true
   },
   "outputs": [],
   "source": [
    "data_df = logdf.copy(deep=True)\n",
    "cols = [\"sent_bytes\", \"received_bytes\", \"response_processing_time\"]\n",
    "data_df[cols] = data_df[cols].astype(np.float)\n",
    "data_df[\"Device\"] = data_df[\"user_agent\"].str.contains(\"Mobile\").replace({False: \"Web\", True: \"Mobile\"})\n",
    "data_df[\"request_method\"] = data_df[\"request\"].str.split(\" \", expand=True)[0]"
   ]
  },
  {
   "cell_type": "code",
   "execution_count": 38,
   "metadata": {
    "collapsed": true
   },
   "outputs": [],
   "source": [
    "device_data = (data_df[[\"session_id\", \"Device\"]].pivot_table(index=\"session_id\", \n",
    "                                                    columns=[\"Device\"], \n",
    "                                                    aggfunc=np.count_nonzero)\n",
    "                                                .reset_index().rename_axis(None, axis=1).fillna(0))\n",
    "session_details = data_df[[\"session_id\"]+cols].pivot_table(index=\"session_id\", values=cols).reset_index()"
   ]
  },
  {
   "cell_type": "code",
   "execution_count": null,
   "metadata": {},
   "outputs": [],
   "source": []
  },
  {
   "cell_type": "code",
   "execution_count": 39,
   "metadata": {
    "collapsed": true
   },
   "outputs": [],
   "source": [
    "lag_cols = [\"Mobile\", \"Web\", \"DELETE\", \"GET\", \"HEAD\", \"OPTIONS\", \"POST\", \"PUT\", \n",
    "            \"received_bytes\", \"response_processing_time\", \"sent_bytes\",\n",
    "            \"session_length\", \"unique_url_count\"]\n",
    "\n",
    "lag_cols = [\"Mobile\", \"Web\",\n",
    "            \"received_bytes\", \"response_processing_time\", \"sent_bytes\",\n",
    "            \"session_length\", \"unique_url_count\"]\n",
    "\n",
    "tmp_0 = (pd.merge(session_length, url_count_data , how='left', on='session_id')\n",
    "           .merge(device_data, on=\"session_id\", how='left')\n",
    "           .merge(session_details, on=\"session_id\", how='left'))\n",
    "\n",
    "tmp_1 = tmp_0.groupby(\"client_IP\")[lag_cols].transform(lambda x: x.shift(1)).rename(columns=dict(zip(lag_cols, [\"Prev_\"+col for col in lag_cols])))\n",
    "session_data = pd.concat((tmp_0.drop(np.setdiff1d(lag_cols, [\"session_length\", \"unique_url_count\"]), axis=1), \n",
    "                          tmp_1), axis=1)"
   ]
  },
  {
   "cell_type": "code",
   "execution_count": 50,
   "metadata": {},
   "outputs": [
    {
     "data": {
      "text/html": [
       "<div>\n",
       "<style>\n",
       "    .dataframe thead tr:only-child th {\n",
       "        text-align: right;\n",
       "    }\n",
       "\n",
       "    .dataframe thead th {\n",
       "        text-align: left;\n",
       "    }\n",
       "\n",
       "    .dataframe tbody tr th {\n",
       "        vertical-align: top;\n",
       "    }\n",
       "</style>\n",
       "<table border=\"1\" class=\"dataframe\">\n",
       "  <thead>\n",
       "    <tr style=\"text-align: right;\">\n",
       "      <th></th>\n",
       "      <th>session_id</th>\n",
       "      <th>session_length</th>\n",
       "      <th>client_IP</th>\n",
       "      <th>session</th>\n",
       "      <th>unique_url_count</th>\n",
       "      <th>Prev_Mobile</th>\n",
       "      <th>Prev_Web</th>\n",
       "      <th>Prev_received_bytes</th>\n",
       "      <th>Prev_response_processing_time</th>\n",
       "      <th>Prev_sent_bytes</th>\n",
       "      <th>Prev_session_length</th>\n",
       "      <th>Prev_unique_url_count</th>\n",
       "    </tr>\n",
       "  </thead>\n",
       "  <tbody>\n",
       "    <tr>\n",
       "      <th>0</th>\n",
       "      <td>1.186.101.79_0</td>\n",
       "      <td>146</td>\n",
       "      <td>1.186.101.79</td>\n",
       "      <td>0</td>\n",
       "      <td>9</td>\n",
       "      <td>NaN</td>\n",
       "      <td>NaN</td>\n",
       "      <td>NaN</td>\n",
       "      <td>NaN</td>\n",
       "      <td>NaN</td>\n",
       "      <td>NaN</td>\n",
       "      <td>NaN</td>\n",
       "    </tr>\n",
       "    <tr>\n",
       "      <th>1</th>\n",
       "      <td>1.186.101.79_1</td>\n",
       "      <td>229</td>\n",
       "      <td>1.186.101.79</td>\n",
       "      <td>1</td>\n",
       "      <td>8</td>\n",
       "      <td>0.0</td>\n",
       "      <td>38.0</td>\n",
       "      <td>83.105263</td>\n",
       "      <td>0.000021</td>\n",
       "      <td>2168.789474</td>\n",
       "      <td>146.0</td>\n",
       "      <td>9.0</td>\n",
       "    </tr>\n",
       "    <tr>\n",
       "      <th>2</th>\n",
       "      <td>1.186.103.240_0</td>\n",
       "      <td>11</td>\n",
       "      <td>1.186.103.240</td>\n",
       "      <td>0</td>\n",
       "      <td>5</td>\n",
       "      <td>NaN</td>\n",
       "      <td>NaN</td>\n",
       "      <td>NaN</td>\n",
       "      <td>NaN</td>\n",
       "      <td>NaN</td>\n",
       "      <td>NaN</td>\n",
       "      <td>NaN</td>\n",
       "    </tr>\n",
       "    <tr>\n",
       "      <th>3</th>\n",
       "      <td>1.186.103.78_0</td>\n",
       "      <td>9</td>\n",
       "      <td>1.186.103.78</td>\n",
       "      <td>0</td>\n",
       "      <td>4</td>\n",
       "      <td>NaN</td>\n",
       "      <td>NaN</td>\n",
       "      <td>NaN</td>\n",
       "      <td>NaN</td>\n",
       "      <td>NaN</td>\n",
       "      <td>NaN</td>\n",
       "      <td>NaN</td>\n",
       "    </tr>\n",
       "    <tr>\n",
       "      <th>4</th>\n",
       "      <td>1.186.108.213_0</td>\n",
       "      <td>112</td>\n",
       "      <td>1.186.108.213</td>\n",
       "      <td>0</td>\n",
       "      <td>2</td>\n",
       "      <td>NaN</td>\n",
       "      <td>NaN</td>\n",
       "      <td>NaN</td>\n",
       "      <td>NaN</td>\n",
       "      <td>NaN</td>\n",
       "      <td>NaN</td>\n",
       "      <td>NaN</td>\n",
       "    </tr>\n",
       "  </tbody>\n",
       "</table>\n",
       "</div>"
      ],
      "text/plain": [
       "        session_id  session_length      client_IP  session  unique_url_count  \\\n",
       "0   1.186.101.79_0             146   1.186.101.79        0                 9   \n",
       "1   1.186.101.79_1             229   1.186.101.79        1                 8   \n",
       "2  1.186.103.240_0              11  1.186.103.240        0                 5   \n",
       "3   1.186.103.78_0               9   1.186.103.78        0                 4   \n",
       "4  1.186.108.213_0             112  1.186.108.213        0                 2   \n",
       "\n",
       "   Prev_Mobile  Prev_Web  Prev_received_bytes  Prev_response_processing_time  \\\n",
       "0          NaN       NaN                  NaN                            NaN   \n",
       "1          0.0      38.0            83.105263                       0.000021   \n",
       "2          NaN       NaN                  NaN                            NaN   \n",
       "3          NaN       NaN                  NaN                            NaN   \n",
       "4          NaN       NaN                  NaN                            NaN   \n",
       "\n",
       "   Prev_sent_bytes  Prev_session_length  Prev_unique_url_count  \n",
       "0              NaN                  NaN                    NaN  \n",
       "1      2168.789474                146.0                    9.0  \n",
       "2              NaN                  NaN                    NaN  \n",
       "3              NaN                  NaN                    NaN  \n",
       "4              NaN                  NaN                    NaN  "
      ]
     },
     "execution_count": 50,
     "metadata": {},
     "output_type": "execute_result"
    }
   ],
   "source": [
    "session_data.head()"
   ]
  },
  {
   "cell_type": "code",
   "execution_count": null,
   "metadata": {
    "collapsed": true
   },
   "outputs": [],
   "source": []
  },
  {
   "cell_type": "code",
   "execution_count": 51,
   "metadata": {
    "collapsed": true
   },
   "outputs": [],
   "source": [
    "# Data is split based on session\n",
    "# First 5 sessions in train\n",
    "build = session_data[session_data[\"session\"] < 6].fillna(0)\n",
    "val = session_data[session_data[\"session\"] == 6].fillna(0)\n",
    "test = session_data[session_data[\"session\"] > 6].fillna(0)"
   ]
  },
  {
   "cell_type": "code",
   "execution_count": 52,
   "metadata": {
    "collapsed": true
   },
   "outputs": [],
   "source": [
    "cols_for_model = ['Prev_Mobile', 'Prev_Web',\n",
    "                   'Prev_received_bytes', 'Prev_response_processing_time',\n",
    "                   'Prev_sent_bytes', 'Prev_session_length', 'Prev_unique_url_count']"
   ]
  },
  {
   "cell_type": "code",
   "execution_count": 53,
   "metadata": {},
   "outputs": [
    {
     "data": {
      "text/plain": [
       "RandomForestRegressor(bootstrap=True, criterion='mse', max_depth=None,\n",
       "           max_features='auto', max_leaf_nodes=None,\n",
       "           min_impurity_decrease=0.0, min_impurity_split=None,\n",
       "           min_samples_leaf=1, min_samples_split=2,\n",
       "           min_weight_fraction_leaf=0.0, n_estimators=400, n_jobs=4,\n",
       "           oob_score=False, random_state=2018, verbose=0, warm_start=False)"
      ]
     },
     "execution_count": 53,
     "metadata": {},
     "output_type": "execute_result"
    }
   ],
   "source": [
    "rf_session_length = RandomForestRegressor(n_estimators=400, n_jobs=4, random_state=2018)\n",
    "rf_session_length.fit(build[cols_for_model], np.log1p(build[\"session_length\"]))"
   ]
  },
  {
   "cell_type": "code",
   "execution_count": 54,
   "metadata": {},
   "outputs": [
    {
     "name": "stdout",
     "output_type": "stream",
     "text": [
      "Validation RMSE: 261.9237927281019\n",
      "Test RMSE: 157.1270204044662\n"
     ]
    }
   ],
   "source": [
    "val_session_length_preds = rf_session_length.predict(val[cols_for_model])\n",
    "test_session_length_preds = rf_session_length.predict(test[cols_for_model])\n",
    "print(f\"Validation RMSE: {mean_squared_error(val['session_length'], np.expm1(val_session_length_preds))**0.5}\")\n",
    "print(f\"Test RMSE: {mean_squared_error(test['session_length'], np.expm1(test_session_length_preds))**0.5}\")"
   ]
  },
  {
   "cell_type": "code",
   "execution_count": null,
   "metadata": {
    "collapsed": true
   },
   "outputs": [],
   "source": []
  },
  {
   "cell_type": "code",
   "execution_count": null,
   "metadata": {
    "collapsed": true
   },
   "outputs": [],
   "source": []
  },
  {
   "cell_type": "markdown",
   "metadata": {},
   "source": [
    "####  Predict the number of unique URL visits by a given IP"
   ]
  },
  {
   "cell_type": "code",
   "execution_count": 55,
   "metadata": {},
   "outputs": [
    {
     "data": {
      "text/plain": [
       "RandomForestRegressor(bootstrap=True, criterion='mse', max_depth=None,\n",
       "           max_features='auto', max_leaf_nodes=None,\n",
       "           min_impurity_decrease=0.0, min_impurity_split=None,\n",
       "           min_samples_leaf=1, min_samples_split=2,\n",
       "           min_weight_fraction_leaf=0.0, n_estimators=500, n_jobs=4,\n",
       "           oob_score=False, random_state=2018, verbose=0, warm_start=False)"
      ]
     },
     "execution_count": 55,
     "metadata": {},
     "output_type": "execute_result"
    }
   ],
   "source": [
    "rf_url_count = RandomForestRegressor(n_estimators=500, n_jobs=4, random_state=2018)\n",
    "rf_url_count.fit(build[cols_for_model], build[\"unique_url_count\"])"
   ]
  },
  {
   "cell_type": "code",
   "execution_count": null,
   "metadata": {
    "collapsed": true
   },
   "outputs": [],
   "source": []
  },
  {
   "cell_type": "code",
   "execution_count": 56,
   "metadata": {},
   "outputs": [
    {
     "name": "stdout",
     "output_type": "stream",
     "text": [
      "Validation RMSE: 463.870210859012\n",
      "Test RMSE: 273.45773808923303\n"
     ]
    }
   ],
   "source": [
    "val_url_count_preds = rf_url_count.predict(val[cols_for_model])\n",
    "test_url_count_preds = rf_url_count.predict(test[cols_for_model])\n",
    "print(f\"Validation RMSE: {mean_squared_error(val['unique_url_count'], val_url_count_preds)**0.5}\")\n",
    "print(f\"Test RMSE: {mean_squared_error(test['unique_url_count'], test_url_count_preds)**0.5}\")"
   ]
  },
  {
   "cell_type": "code",
   "execution_count": null,
   "metadata": {
    "collapsed": true
   },
   "outputs": [],
   "source": []
  },
  {
   "cell_type": "markdown",
   "metadata": {},
   "source": [
    "Field\tDescription\n",
    "timestamp\n",
    "\n",
    "The time when the load balancer received the request from the client, in ISO 8601 format.\n",
    "\n",
    "elb\n",
    "\n",
    "The name of the load balancer\n",
    "\n",
    "client:port\n",
    "\n",
    "The IP address and port of the requesting client.\n",
    "\n",
    "backend:port\n",
    "\n",
    "The IP address and port of the registered instance that processed this request.\n",
    "\n",
    "If the load balancer can't send the request to a registered instance, or if the instance closes the connection before a response can be sent, this value is set to -.\n",
    "\n",
    "This value can also be set to - if the registered instance does not respond before the idle timeout.\n",
    "\n",
    "request_processing_time\n",
    "\n",
    "[HTTP listener] The total time elapsed, in seconds, from the time the load balancer received the request until the time it sent it to a registered instance.\n",
    "\n",
    "[TCP listener] The total time elapsed, in seconds, from the time the load balancer accepted a TCP/SSL connection from a client to the time the load balancer sends the first byte of data to a registered instance.\n",
    "\n",
    "This value is set to -1 if the load balancer can't dispatch the request to a registered instance. This can happen if the registered instance closes the connection before the idle timeout or if the client sends a malformed request. Additionally, for TCP listeners, this can happen if the client establishes a connection with the load balancer but does not send any data.\n",
    "\n",
    "This value can also be set to -1 if the registered instance does not respond before the idle timeout.\n",
    "\n",
    "backend_processing_time\n",
    "\n",
    "[HTTP listener] The total time elapsed, in seconds, from the time the load balancer sent the request to a registered instance until the instance started to send the response headers.\n",
    "\n",
    "[TCP listener] The total time elapsed, in seconds, for the load balancer to successfully establish a connection to a registered instance.\n",
    "\n",
    "This value is set to -1 if the load balancer can't dispatch the request to a registered instance. This can happen if the registered instance closes the connection before the idle timeout or if the client sends a malformed request.\n",
    "\n",
    "This value can also be set to -1 if the registered instance does not respond before the idle timeout.\n",
    "\n",
    "response_processing_time\n",
    "\n",
    "[HTTP listener] The total time elapsed (in seconds) from the time the load balancer received the response header from the registered instance until it started to send the response to the client. This includes both the queuing time at the load balancer and the connection acquisition time from the load balancer to the client.\n",
    "\n",
    "[TCP listener] The total time elapsed, in seconds, from the time the load balancer received the first byte from the registered instance until it started to send the response to the client.\n",
    "\n",
    "This value is set to -1 if the load balancer can't dispatch the request to a registered instance. This can happen if the registered instance closes the connection before the idle timeout or if the client sends a malformed request.\n",
    "\n",
    "This value can also be set to -1 if the registered instance does not respond before the idle timeout.\n",
    "\n",
    "elb_status_code\n",
    "\n",
    "[HTTP listener] The status code of the response from the load balancer.\n",
    "\n",
    "backend_status_code\n",
    "\n",
    "[HTTP listener] The status code of the response from the registered instance.\n",
    "\n",
    "received_bytes\n",
    "\n",
    "The size of the request, in bytes, received from the client (requester).\n",
    "\n",
    "[HTTP listener] The value includes the request body but not the headers.\n",
    "\n",
    "[TCP listener] The value includes the request body and the headers.\n",
    "\n",
    "sent_bytes\n",
    "\n",
    "The size of the response, in bytes, sent to the client (requester).\n",
    "\n",
    "[HTTP listener] The value includes the response body but not the headers.\n",
    "\n",
    "[TCP listener] The value includes the request body and the headers.\n",
    "\n",
    "request\n",
    "\n",
    "The request line from the client enclosed in double quotes and logged in the following format: HTTP Method + Protocol://Host header:port + Path + HTTP version.\n",
    "\n",
    "[TCP listener] The URL is three dashes, each separated by a space, and ending with a space (\"- - - \").\n",
    "\n",
    "user_agent\n",
    "\n",
    "[HTTP/HTTPS listener] A User-Agent string that identifies the client that originated the request. The string consists of one or more product identifiers, product[/version]. If the string is longer than 8 KB, it is truncated.\n",
    "\n",
    "ssl_cipher\n",
    "\n",
    "[HTTPS/SSL listener] The SSL cipher. This value is recorded only if the incoming SSL/TLS connection was established after a successful negotiation. Otherwise, the value is set to -.\n",
    "\n",
    "ssl_protocol\n",
    "\n",
    "[HTTPS/SSL listener] The SSL protocol. This value is recorded only if the incoming SSL/TLS connection was established after a successful negotiation. Otherwise, the value is set to -."
   ]
  },
  {
   "cell_type": "code",
   "execution_count": null,
   "metadata": {},
   "outputs": [],
   "source": []
  },
  {
   "cell_type": "code",
   "execution_count": null,
   "metadata": {},
   "outputs": [],
   "source": []
  },
  {
   "cell_type": "code",
   "execution_count": null,
   "metadata": {},
   "outputs": [],
   "source": []
  },
  {
   "cell_type": "code",
   "execution_count": null,
   "metadata": {
    "collapsed": true
   },
   "outputs": [],
   "source": []
  },
  {
   "cell_type": "code",
   "execution_count": null,
   "metadata": {
    "collapsed": true
   },
   "outputs": [],
   "source": []
  }
 ],
 "metadata": {
  "kernelspec": {
   "display_name": "Python 3",
   "language": "python",
   "name": "python3"
  },
  "language_info": {
   "codemirror_mode": {
    "name": "ipython",
    "version": 3
   },
   "file_extension": ".py",
   "mimetype": "text/x-python",
   "name": "python",
   "nbconvert_exporter": "python",
   "pygments_lexer": "ipython3",
   "version": "3.6.3"
  }
 },
 "nbformat": 4,
 "nbformat_minor": 2
}
